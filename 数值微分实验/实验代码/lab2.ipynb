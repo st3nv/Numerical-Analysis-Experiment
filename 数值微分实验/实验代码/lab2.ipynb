{
 "cells": [
  {
   "cell_type": "markdown",
   "metadata": {},
   "source": [
    "# 实验二：解非线性方程\n",
    "\n",
    "**题目：**求方程$x^3-\\cos(x)-5x-1=0$的根。\n",
    "\n",
    "记$f(x)=x^3-\\cos x-5x-1$，作$f(x)$的图像。从图可以看出：方程$f(x)=0$有3个根，第一个位于$[-3,-1]$内，第二个位于$[-1,1]$内，第三个位于$[1,3]$内。"
   ]
  },
  {
   "cell_type": "code",
   "execution_count": 92,
   "metadata": {},
   "outputs": [],
   "source": [
    "# Import\n",
    "import numpy as np\n",
    "import matplotlib.pyplot as plt\n",
    "from scipy.misc import derivative"
   ]
  },
  {
   "cell_type": "code",
   "execution_count": 93,
   "metadata": {},
   "outputs": [],
   "source": [
    "# 定义函数\n",
    "def f0(x):\n",
    "    y = x**3-np.cos(x)-5*x-1\n",
    "    return y"
   ]
  },
  {
   "cell_type": "code",
   "execution_count": 94,
   "metadata": {},
   "outputs": [
    {
     "data": {
      "text/plain": [
       "[<matplotlib.lines.Line2D at 0x24dfddabf48>]"
      ]
     },
     "execution_count": 94,
     "metadata": {},
     "output_type": "execute_result"
    },
    {
     "data": {
      "image/png": "[encoded data removed]",
      "text/plain": [
       "<Figure size 576x396 with 1 Axes>"
      ]
     },
     "metadata": {},
     "output_type": "display_data"
    }
   ],
   "source": [
    "x_space = np.arange(-3,3,0.01)\n",
    "y_space = f0(x_space)\n",
    "\n",
    "plt.style.use(\"seaborn\")\n",
    "plt.plot(x_space, y_space)"
   ]
  },
  {
   "cell_type": "markdown",
   "metadata": {},
   "source": [
    "## 1.二分法求根\n",
    "二分法求根的思路是：对于连续函数$f(x)$，若其在区间$[a,b]$上满足$f(a)\\cdot f(b)<0$，则其在$(a,b)$内存在零点$\\bar x$。且我们可以通过二分法求出$\\bar x$，其思路是：\n",
    "\n",
    "1. 取$x_0=(a+b)/2$。若$f(x_0)=0$，则输出$x_0$。否则转到下一步。\n",
    "2. 若$f(a)\\cdot f(x_0)>0$，则$a_1=x_0,b_1=b$，否则$a_1=a,b_1=x_0$。\n",
    "3. 重复第二步，构造$[a_1,b_1],[a_2,b_2],...$，并计算$x_k=(a_k+b_k)/2$。直至$f(x_k)=0$或$|f(x_k)|<\\epsilon$停止迭代并输出$x_k$。\n",
    "\n",
    "可以使用以下函数实现二分法："
   ]
  },
  {
   "cell_type": "code",
   "execution_count": 95,
   "metadata": {},
   "outputs": [],
   "source": [
    "# 1.对区间二分法求根\n",
    "def halfsearch(f, a, b, uplimit):\n",
    "    if f(a)*f(b)>=0:\n",
    "        print(\"f(a)*f(b) should be less than 0\")\n",
    "        return 0\n",
    "    if (a>b):\n",
    "        print(\"a should be less than b\")\n",
    "        return 0\n",
    "    while(b-a>uplimit):\n",
    "        x0 = (a+b)/2\n",
    "        if f(x0)==0:\n",
    "            return x0\n",
    "        elif f(x0)*f(a)>0:\n",
    "            a = x0\n",
    "        else:\n",
    "            b = x0\n",
    "    x0 = (a+b)/2\n",
    "    return x0"
   ]
  },
  {
   "cell_type": "markdown",
   "metadata": {},
   "source": [
    "分别在$[-3,-1],[-1,1],[1,3]$上使用二分法，所得结果如下所示："
   ]
  },
  {
   "cell_type": "code",
   "execution_count": 97,
   "metadata": {},
   "outputs": [
    {
     "name": "stdout",
     "output_type": "stream",
     "text": [
      "The result between -3 and -1: -2.193133\n",
      "The result between -1 and 1: -0.396959\n",
      "The result between 1 and 3: 2.270829\n"
     ]
    }
   ],
   "source": [
    "#要求误差为1e-6\n",
    "limit = 1e-6\n",
    "\n",
    "print(\"The result between -3 and -1:\", \"%.6f\"%halfsearch(f0,-3,-1,limit))\n",
    "print(\"The result between -1 and 1:\",\"%.6f\"%halfsearch(f0,-1,1,limit))\n",
    "print(\"The result between 1 and 3:\",\"%.6f\"%halfsearch(f0,1,3,limit))"
   ]
  },
  {
   "cell_type": "markdown",
   "metadata": {},
   "source": [
    "## 2.不动点迭代法\n",
    "对于$f(x)=0$，可以将其变换为$x=\\phi(x)$。对于初值$x_0$，构造序列$x_1=\\phi(x_0),x_2=\\phi(x_1),...,x_k=\\phi(x_{k-1}),...$。如果序列$\\{x_i\\}_{i=0}^\\infty$收敛，则其收敛值即为方程$f(x)=0$的根。其思路是：\n",
    "\n",
    "1. 对于$x_k$，计算$x_{k+1}=\\phi(x_k)$。\n",
    "2. 若$|x_{k+1}-x_k|<\\epsilon$，则输出$x_{k+1}$。\n",
    "3. 若迭代次数超过一定次数，停止算法，输出算法不收敛。\n",
    "4. 回到第1步进行迭代。\n",
    "\n",
    "可以使用以下函数实现不动点法："
   ]
  },
  {
   "cell_type": "code",
   "execution_count": 98,
   "metadata": {},
   "outputs": [],
   "source": [
    "def fixpoint(f, x0, uplimit):\n",
    "    xold = x0\n",
    "    xnew = f(xold)\n",
    "    cnt = 1\n",
    "    while abs(xnew-xold)>uplimit:\n",
    "        xold = xnew\n",
    "        xnew = f(xold)\n",
    "        cnt = cnt+1\n",
    "        if(cnt>10000 or abs(xnew)>1e10):\n",
    "            return 0\n",
    "    return (xnew,cnt)"
   ]
  },
  {
   "cell_type": "markdown",
   "metadata": {},
   "source": [
    "下面对于两个不同的迭代函数进行不动点迭代法。其中$\\phi_1(x)=\\frac{x^3-\\cos(x)-1}{5},\\phi_2(x)=\\sqrt[3]{\\cos(x)+5x+1}$。初值取分别设置为-3,-2,-1,0,1,2,3。\n",
    "\n",
    "**(1) $\\phi_1(x)=\\frac{x^3-\\cos(x)-1}{5}$**\n",
    "\n",
    "对$\\phi_1(x)$使用不动点迭代法可得到如下结果："
   ]
  },
  {
   "cell_type": "code",
   "execution_count": 102,
   "metadata": {},
   "outputs": [
    {
     "name": "stdout",
     "output_type": "stream",
     "text": [
      "Fix-point Method for phi1\n",
      "初值 = -3 时不收敛\n",
      "Start point: -2 Result point: -0.396958 Iterate times: 8\n",
      "Start point: -1 Result point: -0.396958 Iterate times: 6\n",
      "Start point: 0 Result point: -0.396958 Iterate times: 4\n",
      "Start point: 1 Result point: -0.396958 Iterate times: 5\n",
      "Start point: 2 Result point: -0.396958 Iterate times: 7\n",
      "初值 = 3 时不收敛\n"
     ]
    }
   ],
   "source": [
    "def phi0(x):\n",
    "    y = (x**3-np.cos(x)-1)/5\n",
    "    return y\n",
    "\n",
    "print(\"Fix-point Method for phi1\")\n",
    "for i in [-3,-2,-1,0,1,2,3]:\n",
    "    if fixpoint(phi0,i,limit) == 0:\n",
    "        print(\"初值 = %d 时不收敛\"%i)\n",
    "    else:\n",
    "        result, itertime = fixpoint(phi0,i,limit)\n",
    "        print(\"Start point:\", i, \"Result point:\", \"%.6f\"%result, \"Iterate times:\", itertime)"
   ]
  },
  {
   "cell_type": "markdown",
   "metadata": {},
   "source": [
    "**(2) $\\phi_2(x)=\\phi_2(x)=\\sqrt[3]{\\cos(x)+5x+1}$**\n",
    "\n",
    "对$\\phi_2(x)$使用不动点迭代法可得到如下结果："
   ]
  },
  {
   "cell_type": "code",
   "execution_count": 103,
   "metadata": {},
   "outputs": [
    {
     "name": "stdout",
     "output_type": "stream",
     "text": [
      "Fix-point Method for phi2\n",
      "Start point: -3 Result point: -2.193133 Iterate times: 16\n",
      "Start point: -2 Result point: -2.193132 Iterate times: 14\n",
      "Start point: -1 Result point: -2.193132 Iterate times: 17\n",
      "Start point: 0 Result point: 2.270829 Iterate times: 13\n",
      "Start point: 1 Result point: 2.270829 Iterate times: 12\n",
      "Start point: 2 Result point: 2.270829 Iterate times: 11\n",
      "Start point: 3 Result point: 2.270829 Iterate times: 12\n"
     ]
    }
   ],
   "source": [
    "def phi1(x):\n",
    "    y = np.cbrt(np.cos(x)+5*x+1)\n",
    "    return y\n",
    "\n",
    "print(\"Fix-point Method for phi2\")\n",
    "for i in [-3,-2,-1,0,1,2,3]:\n",
    "    if fixpoint(phi1,i,limit) == 0:\n",
    "        print(\"初值 = %d时不收敛\"%i)\n",
    "    else:\n",
    "        result, itertime = fixpoint(phi1,i,limit)\n",
    "        print(\"Start point:\", i, \"Result point:\", \"%.6f\"%result, \"Iterate times:\", itertime)"
   ]
  },
  {
   "cell_type": "markdown",
   "metadata": {},
   "source": [
    "## 3.埃特金加速法\n",
    "对于不动点迭代法中的迭代函数$\\phi(x)$，不动点迭代法使用迭代公式$x_{k+1}=\\phi(x_k)$。埃特金加速法使用如下的迭代公式：$y_k=\\phi(x_k),z_k=\\phi(y_k),x_{k+1}=x_k-\\frac{(y_k-x_k)^2}{z_k-2y_k+x_k}$。\n",
    "\n",
    "更一般的，我们将使用埃特金加速法的不动点迭代法称为斯蒂芬森迭代法。其思路如下：\n",
    "\n",
    "1. 对于$x_k$，计算$x_{k+1}=x_k-\\frac{(\\phi(x_k)-x_k)^2}{\\phi(\\phi(x_k))-2\\phi(x_k)+x_k}$。\n",
    "2. 若$|x_{k+1}-x_k|<\\epsilon$，则输出$x_{k+1}$。\n",
    "3. 若迭代次数超过一定次数，停止算法，输出算法不收敛。\n",
    "4. 回到第1步进行迭代。\n",
    "\n",
    "可以使用如下函数实现斯蒂芬森迭代法："
   ]
  },
  {
   "cell_type": "code",
   "execution_count": 105,
   "metadata": {},
   "outputs": [],
   "source": [
    "def aitken(f, x0, uplimit):\n",
    "    xnew = x0\n",
    "    xold = np.inf\n",
    "    cnt = 0\n",
    "    while abs(xold-xnew)>uplimit:\n",
    "        xold = xnew\n",
    "        xk1 = f(xold)\n",
    "        xk2 = f(xk1)\n",
    "        xnew = xold-((xk1-xold)**2/(xk2-2*xk1+xold))\n",
    "        cnt = cnt+1\n",
    "        if (cnt > 10000 or abs(xnew)>1e10):\n",
    "            return 0\n",
    "    return (xnew,cnt)"
   ]
  },
  {
   "cell_type": "markdown",
   "metadata": {},
   "source": [
    "斯蒂芬森迭代法在迭代函数$\\phi_1(x)=\\frac{x^3-\\cos(x)-1}{6},\\phi_2(x)=\\sqrt[3]{\\cos(x)+6x+1}$和初值-3,-2,-1,0,1,2,3下的结果为：\n",
    "\n",
    "**(1) $\\phi_1(x)=\\frac{x^3-\\cos(x)-1}{5}$**\n",
    "\n",
    "对$\\phi_1(x)$使用斯蒂芬森迭代法可得到如下结果："
   ]
  },
  {
   "cell_type": "code",
   "execution_count": 106,
   "metadata": {},
   "outputs": [
    {
     "name": "stdout",
     "output_type": "stream",
     "text": [
      "Aitken Method for phi1\n",
      "Start point: -3 Result point: -2.193133 Iterate times: 8\n",
      "Start point: -2 Result point: -2.193133 Iterate times: 6\n",
      "Start point: -1 Result point: -0.396958 Iterate times: 4\n",
      "Start point: 0 Result point: -0.396958 Iterate times: 3\n",
      "Start point: 1 Result point: -0.396958 Iterate times: 4\n",
      "Start point: 2 Result point: 2.270829 Iterate times: 6\n",
      "Start point: 3 Result point: 2.270829 Iterate times: 7\n"
     ]
    }
   ],
   "source": [
    "print(\"Aitken Method for phi1\")\n",
    "for i in [-3,-2,-1,0,1,2,3]:\n",
    "    temp = aitken(phi0,i,limit)\n",
    "    if temp==0:\n",
    "        print(\"初值 = %d时不收敛\"%i)\n",
    "    else:\n",
    "        result, itertime = temp\n",
    "        print(\"Start point:\", i, \"Result point:\", \"%.6f\"%result, \"Iterate times:\", itertime)"
   ]
  },
  {
   "cell_type": "markdown",
   "metadata": {},
   "source": [
    "**(2) $\\phi_2(x)=\\phi_2(x)=\\sqrt[3]{\\cos(x)+5x+1}$**\n",
    "\n",
    "对$\\phi_2(x)$使用斯蒂芬森迭代法可得到如下结果："
   ]
  },
  {
   "cell_type": "code",
   "execution_count": 107,
   "metadata": {},
   "outputs": [
    {
     "name": "stdout",
     "output_type": "stream",
     "text": [
      "Aitken Method for phi2\n",
      "Start point: -3 Result point: -2.193133 Iterate times: 4\n",
      "Start point: -2 Result point: -2.193133 Iterate times: 3\n",
      "Start point: -1 Result point: -2.193133 Iterate times: 5\n",
      "Start point: 0 Result point: 2.270829 Iterate times: 4\n",
      "Start point: 1 Result point: 2.270829 Iterate times: 4\n",
      "Start point: 2 Result point: 2.270829 Iterate times: 3\n",
      "Start point: 3 Result point: 2.270829 Iterate times: 3\n"
     ]
    }
   ],
   "source": [
    "print(\"Aitken Method for phi2\")\n",
    "for i in [-3,-2,-1,0,1,2,3]:\n",
    "    temp = aitken(phi1,i,limit)\n",
    "    if temp==0:\n",
    "        print(\"初值 = %d时不收敛\"%i)\n",
    "    else:\n",
    "        result, itertime = temp\n",
    "        print(\"Start point:\", i, \"Result point:\", \"%.6f\"%result, \"Iterate times:\", itertime)"
   ]
  },
  {
   "cell_type": "markdown",
   "metadata": {},
   "source": [
    "## 4.牛顿法\n",
    "牛顿法对函数$f(x)$在$x_k$处做泰勒展开$f(x^*)\\approx f(x_k)+f'(x_k)(x^*-x_k)$，其中$x^*$是方程$f(x)=0$的根。因此可以得到递推式$x_{k+1}=x_k-\\frac{f(x_k)}{f'(x_k)}$。牛顿法的思路如下：\n",
    "\n",
    "1. 对于$x_k$，计算$x_{k+1}=x_k-\\frac{f(x_k)}{f'(x_k)}$。\n",
    "2. 若$|x_{k+1}-x_k|<\\epsilon$，则输出$x_{k+1}$。\n",
    "3. 若迭代次数超过一定次数，停止算法，输出算法不收敛。\n",
    "4. 回到第1步进行迭代。\n",
    "\n",
    "牛顿法主要有两个缺点：第一、牛顿法需要计算导数$f'(x)$，计算量较大。第二、牛顿法不能保证算法的收敛性。针对这两个问题，可以分别使用简化的牛顿法和牛顿下山法对牛顿法进行改进。\n",
    "\n",
    "简化的牛顿法：使用$f'(x_0)$代替$f'(x_k)$减少计算量。其递推式为$x_{k+1}=x_k-\\frac{f(x_k)}{f'(x_0)}$。\n",
    "\n",
    "牛顿下山法：引入压缩因子$\\lambda$，将递推公式变为$x_{k+1}=x_k-\\lambda\\frac{f(x_k)}{f'(x_k)}$，使得$|f(x_{k+1})|<|f(x_k)|$，从而保证其收敛性。其中，$\\lambda$的取值开始时为1，在每次递推中不断折半，直至满足递减的条件。牛顿下山法的思路如下：\n",
    "\n",
    "1. 对于$x_k$，设定$\\lambda=1$。\n",
    "  - 1.1.计算$x_{k+1}=x_k-\\lambda\\frac{f(x_k)}{f'(x_k)}$。\n",
    "  - 1.2.判断$|f(x_{k+1})|<|f(x_k)|$。若满足则调到第2步。\n",
    "  - 1.3.$\\lambda=\\lambda/2$，并回到1.1步。\n",
    "2. 若$|x_{k+1}-x_k|<\\epsilon$，则输出$x_{k+1}$。\n",
    "3. 若迭代次数超过一定次数，停止算法，输出算法不收敛。\n",
    "4. 回到第1步进行迭代。\n",
    "\n",
    "可以使用以下函数实现牛顿法及其改进方法：\n",
    "\n",
    "**普通牛顿法** 代码："
   ]
  },
  {
   "cell_type": "code",
   "execution_count": 108,
   "metadata": {},
   "outputs": [],
   "source": [
    "def newton_phi(f, x):\n",
    "    y = x-f(x)/derivative(f, x, dx=1e-6)\n",
    "    return y\n",
    "\n",
    "def newton(f, x0, uplimit):\n",
    "    xold = x0\n",
    "    xnew = newton_phi(f,xold)\n",
    "    cnt = 1\n",
    "    while abs(xnew-xold)>uplimit:\n",
    "        xold = xnew\n",
    "        xnew = newton_phi(f,xold)\n",
    "        cnt = cnt+1\n",
    "        if cnt > 10000 or abs(xnew)>1e10:\n",
    "            return 0\n",
    "    return (xnew,cnt)"
   ]
  },
  {
   "cell_type": "markdown",
   "metadata": {},
   "source": [
    "结果如下所示："
   ]
  },
  {
   "cell_type": "code",
   "execution_count": 110,
   "metadata": {},
   "outputs": [
    {
     "name": "stdout",
     "output_type": "stream",
     "text": [
      "Newton Method for f0\n",
      "Start point: -3 Result point: -2.193133 Iterate times: 6\n",
      "Start point: -2 Result point: -2.193133 Iterate times: 5\n",
      "Start point: -1 Result point: -0.396958 Iterate times: 4\n",
      "Start point: 0 Result point: -0.396958 Iterate times: 4\n",
      "Start point: 1 Result point: -2.193133 Iterate times: 7\n",
      "Start point: 2 Result point: 2.270829 Iterate times: 5\n",
      "Start point: 3 Result point: 2.270829 Iterate times: 5\n"
     ]
    }
   ],
   "source": [
    "print(\"Newton Method for f0\")\n",
    "for i in [-3,-2,-1,0,1,2,3]:\n",
    "    temp = newton(f0,i,limit)\n",
    "    if temp == 0:\n",
    "        print(\"初值 = %d时不收敛\"%i)\n",
    "    else:\n",
    "        result, itertime = temp\n",
    "        print(\"Start point:\", i, \"Result point:\", \"%.6f\"%result, \"Iterate times:\", itertime)"
   ]
  },
  {
   "cell_type": "markdown",
   "metadata": {},
   "source": [
    "**简化牛顿法** 代码："
   ]
  },
  {
   "cell_type": "code",
   "execution_count": 112,
   "metadata": {},
   "outputs": [],
   "source": [
    "def newton_phi_simplified(f,C,x):\n",
    "    y = x-f(x)/C\n",
    "    return y\n",
    "\n",
    "def newton_simplified(f, x0, uplimit):\n",
    "    xold = x0\n",
    "    C = derivative(f, x0, dx=1e-6)\n",
    "    xnew = newton_phi_simplified(f,C,xold)\n",
    "    cnt = 1\n",
    "    while abs(xnew-xold)>uplimit:\n",
    "        xold = xnew\n",
    "        xnew = newton_phi_simplified(f,C,xold)\n",
    "        cnt = cnt+1\n",
    "        if cnt > 10000 or  abs(xnew)>1e10:\n",
    "            return 0\n",
    "    return (xnew,cnt)"
   ]
  },
  {
   "cell_type": "markdown",
   "metadata": {},
   "source": [
    "结果如下所示："
   ]
  },
  {
   "cell_type": "code",
   "execution_count": 113,
   "metadata": {},
   "outputs": [
    {
     "name": "stdout",
     "output_type": "stream",
     "text": [
      "Newton Simplified Method for f0\n",
      "Start point: -3 Result point: -2.193134 Iterate times: 25\n",
      "Start point: -2 Result point: -2.193133 Iterate times: 15\n",
      "Start point: -1 Result point: -0.396959 Iterate times: 44\n",
      "Start point: 0 Result point: -0.396958 Iterate times: 4\n",
      "初值 = 1时不收敛\n",
      "Start point: 2 Result point: 2.270829 Iterate times: 16\n",
      "Start point: 3 Result point: 2.270830 Iterate times: 18\n"
     ]
    }
   ],
   "source": [
    "print(\"Newton Simplified Method for f0\")\n",
    "for i in [-3,-2,-1,0,1,2,3]:\n",
    "    temp = newton_simplified(f0,i,limit)\n",
    "    if temp == 0:\n",
    "        print(\"初值 = %d时不收敛\"%i)\n",
    "    else:\n",
    "        result, itertime = temp\n",
    "        print(\"Start point:\", i, \"Result point:\", \"%.6f\"%result, \"Iterate times:\", itertime)"
   ]
  },
  {
   "cell_type": "markdown",
   "metadata": {},
   "source": [
    "**牛顿下山法** 代码："
   ]
  },
  {
   "cell_type": "code",
   "execution_count": 116,
   "metadata": {},
   "outputs": [],
   "source": [
    "def newton_phi_downhill(f, x, lam):\n",
    "    y = x-lam*f(x)/derivative(f, x, dx=1e-6)\n",
    "    return y\n",
    "\n",
    "def newton_downhill(f, x0, uplimit):\n",
    "    xold = np.inf\n",
    "    xnew = x0\n",
    "    cnt = 0\n",
    "    while abs(xnew-xold)>uplimit:\n",
    "        xold = xnew\n",
    "        lam = 1\n",
    "        x_temp = newton_phi_downhill(f,xold,lam)\n",
    "        while(abs(f(x_temp))>abs(f(xold))):\n",
    "            lam = lam/2\n",
    "            x_temp = newton_phi_downhill(f,xold,lam)     \n",
    "        xnew = x_temp\n",
    "        cnt = cnt+1\n",
    "        if cnt > 10000 or abs(xnew)>1e10:\n",
    "            return 0\n",
    "    return (xnew,cnt)"
   ]
  },
  {
   "cell_type": "markdown",
   "metadata": {},
   "source": [
    "结果如下所示："
   ]
  },
  {
   "cell_type": "code",
   "execution_count": 117,
   "metadata": {},
   "outputs": [
    {
     "name": "stdout",
     "output_type": "stream",
     "text": [
      "Newton Downhill Method for f0\n",
      "Start point: -3 Result point: -2.193133 Iterate times: 6\n",
      "Start point: -2 Result point: -2.193133 Iterate times: 5\n",
      "Start point: -1 Result point: -0.396958 Iterate times: 4\n",
      "Start point: 0 Result point: -0.396958 Iterate times: 4\n",
      "Start point: 1 Result point: -0.396958 Iterate times: 5\n",
      "Start point: 2 Result point: 2.270829 Iterate times: 5\n",
      "Start point: 3 Result point: 2.270829 Iterate times: 5\n"
     ]
    }
   ],
   "source": [
    "print(\"Newton Downhill Method for f0\")\n",
    "for i in [-3,-2,-1,0,1,2,3]:\n",
    "    temp = newton_downhill(f0,i,limit)\n",
    "    if temp == 0:\n",
    "        print(\"初值 = %d时不收敛\"%i)\n",
    "    else:\n",
    "        result, itertime = temp\n",
    "        print(\"Start point:\", i, \"Result point:\", \"%.6f\"%result, \"Iterate times:\", itertime)"
   ]
  },
  {
   "cell_type": "markdown",
   "metadata": {},
   "source": [
    "## 5.埃特金加速法的收敛速度\n",
    "\n",
    "埃特金加速法的收敛速度和不动点法的收敛速度可如下表所示。\n",
    "\n",
    "对于迭代函数$\\phi_1(x)=\\frac{x^3-\\cos(x)-1}{5}$，其结果为\n",
    "\n",
    "| 初值 | 不动点法的根 | 不动点法的迭代次数 | 斯蒂芬森法的根 | 斯蒂芬森法的迭代次数 |\n",
    "| :----:| :----: | :----: | :----: | :----: |\n",
    "| -3 |  NaN| NaN | -2.193133 | 8 |\n",
    "| -2| -0.396958 |  8| -2.193133 | 6 |\n",
    "| -1 | -0.396958 | 6 |-2.193133  |4  |\n",
    "| 0 | -0.396958 | 4 | 2.270829 | 3 |\n",
    "| 1 | -0.396958 | 5 | 2.270829 | 4 |\n",
    "| 2 |  -0.396958| 7 | 2.270829 | 6 |\n",
    "| 3 | NaN | NaN | 2.270829 | 7 |\n",
    "\n",
    "其中NaN代表不收敛，下同\n",
    "\n",
    "对于迭代函数$\\phi_2(x)=\\sqrt[3]{\\cos(x)+5x+1}$，其结果为\n",
    "\n",
    "| 初值 | 不动点法的根 | 不动点法的迭代次数 | 斯蒂芬森法的根 | 斯蒂芬森法的迭代次数 |\n",
    "| :----:| :----: | :----: | :----: | :----: |\n",
    "| -3 | -2.193133 |  16| -2.193133 | 4 |\n",
    "| -2| -2.193132 | 14 | -2.193133 | 3 |\n",
    "| -1 | -2.193132 | 17 | -0.396958 |5  |\n",
    "| 0 | 2.270829 | 13 |  -0.396958| 4|\n",
    "| 1 | 2.270829 | 12 | -0.396958 | 4 |\n",
    "| 2 |2.270829  | 11 | 2.270829 | 3 |\n",
    "| 3 | 2.270829 | 12 | 2.270829 | 3 |\n",
    "\n",
    "\n",
    "## 6.牛顿法的收敛速度\n",
    "牛顿法的收敛速度可如下表所示。\n",
    "\n",
    "| 初值 | 普通牛顿法(根/迭代次数) | 简化牛顿法(根/迭代次数) | 牛顿下山法(根/迭代次数) | \n",
    "| :----:| :----: | :----: | :----: |\n",
    "| -3 |(-2.193133,6)  | (-2.193134,25) |(-2.193133,6)  |\n",
    "| -2| (-2.193133,5) | (-2.193133,15) | (-2.193133,5) | \n",
    "| -1 |(-0.396958,4)  | (-0.396959,44) | (-0.396958,4) | \n",
    "| 0 | (-0.396958,4) | (-0.396958,4) | (-0.396958,4) |  \n",
    "| 1 |(-2.193133,7)  | (NaN,NaN) | (-0.396958,5) |  \n",
    "| 2 | (2.270829,5) | (2.270829,16) | (2.270829,5) |  \n",
    "| 3 | (2.270829,5) | (2.270830,18) | (2.270829,5) |  "
   ]
  },
  {
   "cell_type": "code",
   "execution_count": null,
   "metadata": {},
   "outputs": [],
   "source": []
  }
 ],
 "metadata": {
  "kernelspec": {
   "display_name": "Python 3",
   "language": "python",
   "name": "python3"
  },
  "language_info": {
   "codemirror_mode": {
    "name": "ipython",
    "version": 3
   },
   "file_extension": ".py",
   "mimetype": "text/x-python",
   "name": "python",
   "nbconvert_exporter": "python",
   "pygments_lexer": "ipython3",
   "version": "3.7.4"
  }
 },
 "nbformat": 4,
 "nbformat_minor": 4
}
