{
 "cells": [
  {
   "cell_type": "markdown",
   "metadata": {
    "tags": []
   },
   "source": [
    "# 实验一：数值积分与数值微分\n",
    "\n",
    "## 第一题：数值积分\n",
    "\n",
    "### 0.数值积分方法\n",
    "\n",
    "对于积分$\\int_a^bf(x)dx$，可以使用以下三种方法来计算其积分值。\n",
    "\n",
    "**(1).复合梯形公式**\n",
    "\n",
    "对于给定的区间等分数$n$，其在$[a,b]$的节点为$x_i=a+\\frac{b-a}{n}i,i=0,1,...,n$。则此时的复合梯形公式为：\n",
    "\n",
    "$$\\int_a^b f(x)dx\\approx T_n=\\frac{h}{2}[f(a)+2\\sum_{i=1}^{n-1}f(x_i)+f(b)]$$\n",
    "\n",
    "其中，$h=\\frac{b-a}{n}$。\n",
    "\n",
    "可以用以下函数实现复合梯形公式："
   ]
  },
  {
   "cell_type": "code",
   "execution_count": 27,
   "metadata": {
    "tags": []
   },
   "outputs": [],
   "source": [
    "# Import\n",
    "import numpy as np\n",
    "import matplotlib.pyplot as plt"
   ]
  },
  {
   "cell_type": "code",
   "execution_count": 28,
   "metadata": {},
   "outputs": [],
   "source": [
    "# 1.使用复合梯形公式求两个积分值\n",
    "def trape(a, b, n, f):\n",
    "    h = (b-a)/n\n",
    "    array0 = np.array([f(a+k*h) for k in range(0,n+1)])\n",
    "    sum0 = array0[1:n].sum()\n",
    "    Tn = 1/2*h*(2*sum0+array0[0]+array0[n])\n",
    "    return Tn"
   ]
  },
  {
   "cell_type": "markdown",
   "metadata": {},
   "source": [
    "**(2).复合辛普森公式**\n",
    "\n",
    "对于给定的区间等分数$n$，其在$[a,b]$的节点为$x_i=a+\\frac{b-a}{n}i,i=0,1,...,n$。则此时的复合辛普森公式为：\n",
    "\n",
    "$$\\int_a^b f(x)dx\\approx S_n=\\frac{h}{6}[f(a)+2\\sum_{i=1}^{n-1}f(x_i)+4\\sum_{i=0}^{n-1}f(x_{i+\\frac{1}{2}})+f(b)]$$\n",
    "其中，$h=\\frac{b-a}{n}$，$x_{i+\\frac{1}{2}}=\\frac{1}{2}(x_i+x_{i+1})$。\n",
    "\n",
    "可以用以下函数实现复合辛普森公式："
   ]
  },
  {
   "cell_type": "code",
   "execution_count": 29,
   "metadata": {},
   "outputs": [],
   "source": [
    "def simp(a, b, n, f):\n",
    "    h = (b-a)/n\n",
    "    array0 = np.array([f(a+k*h) for k in range(0,n+1)])\n",
    "    array1 = np.array([f(a+k*h+h/2) for k in range(0,n)])\n",
    "    sum0 = array0[1:n].sum()\n",
    "    sum1 = array1.sum()\n",
    "    Sn = 1/6*h*(2*sum0+4*sum1+array0[0]+array0[n])\n",
    "    return Sn"
   ]
  },
  {
   "cell_type": "markdown",
   "metadata": {},
   "source": [
    "**(3).龙贝格求积公式**\n",
    "\n",
    "对于将区间$[a,b]n$等分的复合梯形公式，记$T_n=T(h)=\\frac{h}{2}[f(a)+2\\sum_{i=1}^{n-1}f(x_i)+f(b)]$。若对$n$个区间再二等分，即对区间$2n$等分，则有：\n",
    "\n",
    "$$\n",
    "\\begin{aligned}\n",
    "T_{2n}=T(\\frac{h}{2})&=\\frac{h}{4}[f(a)+2\\sum_{i=1}^{n-1}f(x_i)+2\\sum_{i=0}^{n-1}f(x_{i+\\frac{1}{2}})+f(b)]\\\\\n",
    "&=\\frac{h}{4}[f(a)+2\\sum_{i=1}^{n-1}f(x_i)+f(b)]+\\frac{h}{2}\\sum_{i=0}^{n-1}f(x_{i+\\frac{1}{2}})\\\\\n",
    "&=\\frac{1}{2}T(h)+\\frac{h}{2}\\sum_{i=0}^{n-1}f(x_{i+\\frac{1}{2}})\n",
    "\\end{aligned}\n",
    "$$\n",
    "\n",
    "由于$I-T(h)=-\\frac{b-a}{12}h^2f''(\\eta)$，所以$T(h)=I+O(h^2)$，且$\\lim\\limits_{h\\to0}T(h)=I$。因此对$T(h)$按$h$展开有：\n",
    "\n",
    "$$\n",
    "\\begin{aligned}\n",
    "&T_n=T(h)=I+\\alpha_1h^2+\\alpha_2h^4+...+\\alpha_lh^{2l}+...\\\\\n",
    "&T_{2n}=T(\\frac{h}{2})=I+\\alpha_1(\\frac{h}{2})^2+\\alpha_2(\\frac{h}{2})^4+...+\\alpha_l(\\frac{h}{2})^{2l}+...\\\\\n",
    "\\implies &\\frac{4T(\\frac{h}{2})-T(h)}{3}=I-\\frac{\\alpha_2}{4}h^4+...=I+O(h^4)\n",
    "\\end{aligned}\n",
    "$$\n",
    "因此，可以通过加权平均将误差的结束从$O(h^2)$降至$O(h^4)$。记$T_0(h)=T(h)$，则可以通过$T_1(h)=\\frac{4T_0(\\frac{h}{2})-T_0(h)}{3}=\\frac{4T(\\frac{h}{2})-T(h)}{3}$降低误差的精度。同理，可以通过$T_2(h)=\\frac{4T_1(\\frac{h}{2})-T_1(h)}{3}$将误差降至$O(h^6)$。\n",
    "\n",
    "此方法称为理查森外推，若连续使用此方法，则可得到龙贝格求积公式，其思路如下：\n",
    "\n",
    "1. 计算第$k$次迭代时的复合梯形求积公式$T_0^{(k)}=T_{2^k}=T(\\frac{h}{2^k})$。\n",
    "2. 不断对当前所得出的积分值进行理查森加速得到$T_m^{(k)},m=1,2,...,k$，其中$T_m^{(k)}=\\frac{4^mT_{m-1}^{(k+1)}-T_{m-1}^{(k)}}{4^m-1}$。\n",
    "3. 若$|T_k^{(k)}-T_{k-1}^{(k-1)}|<\\epsilon$，则输出$T_k^{(k)}$。\n",
    "4. 回到第1步进行迭代。\n",
    "\n",
    "可以用以下函数实现龙贝格求积公式："
   ]
  },
  {
   "cell_type": "code",
   "execution_count": 30,
   "metadata": {},
   "outputs": [],
   "source": [
    "# 3.Romberg algorism\n",
    "def my_romberg(f, a, b, n):\n",
    "    mat = np.zeros((n+1,n+1),float)\n",
    "    h = b-a\n",
    "    c2 = 1\n",
    "    mat[0,0] = 1/2*h*(f(a)+f(b))\n",
    "    for i in range(1, n+1):\n",
    "        h = h/2\n",
    "        c2 = 2 * c2\n",
    "        sum = np.array([f(a+k*h) for k in range(1,c2,2)]).sum()\n",
    "        mat[i,0] = mat[i-1,0]/2+sum*h\n",
    "        c4 = 1\n",
    "        for j in range(1, i+1):\n",
    "            c4 = 4 * c4\n",
    "            mat[i,j] = mat[i,j-1] + (mat[i,j-1]-mat[i-1,j-1])/(c4-1)\n",
    "    return mat"
   ]
  },
  {
   "cell_type": "markdown",
   "metadata": {},
   "source": [
    "### 1.$\\int_{-1.96}^{1.96}\\frac{1}{\\sqrt{2\\pi}}e^{-\\frac{x^2}{2}}dx$\n",
    "\n"
   ]
  },
  {
   "cell_type": "code",
   "execution_count": 31,
   "metadata": {},
   "outputs": [],
   "source": [
    "def f0(x):\n",
    "    y = 1/np.sqrt(2*np.pi)*np.exp(-x*x/2)\n",
    "    return y"
   ]
  },
  {
   "cell_type": "markdown",
   "metadata": {},
   "source": [
    "**(1).复合梯形公式**\n",
    "\n",
    "复合梯形公式的求积结果如下："
   ]
  },
  {
   "cell_type": "code",
   "execution_count": 32,
   "metadata": {},
   "outputs": [
    {
     "name": "stdout",
     "output_type": "stream",
     "text": [
      "n =  2  Tn_0 =  0.89647\n",
      "n =  10  Tn_0 =  0.94708\n",
      "n =  50  Tn_0 =  0.94989\n",
      "n =  100  Tn_0 =  0.94997\n",
      "n =  300  Tn_0 =  0.95000\n",
      "n =  500  Tn_0 =  0.95000\n"
     ]
    }
   ],
   "source": [
    "a0 = -1.96\n",
    "b0 = 1.96\n",
    "for n in [2,10,50,100,300,500]:\n",
    "    print(\"n = \", n, \" Tn_0 = \", \"%.5f\" %trape(a0,b0,n,f0))"
   ]
  },
  {
   "cell_type": "markdown",
   "metadata": {},
   "source": [
    "保留五位小数，最终计算结果为0.95000"
   ]
  },
  {
   "cell_type": "markdown",
   "metadata": {},
   "source": [
    "**(2).复合辛普森公式**\n",
    "\n",
    "复合辛普森公式的求积结果如下："
   ]
  },
  {
   "cell_type": "code",
   "execution_count": 33,
   "metadata": {},
   "outputs": [
    {
     "name": "stdout",
     "output_type": "stream",
     "text": [
      "n =  2  Tn_0 =  0.94382\n",
      "n =  10  Tn_0 =  0.95000\n",
      "n =  50  Tn_0 =  0.95000\n",
      "n =  100  Tn_0 =  0.95000\n",
      "n =  500  Tn_0 =  0.95000\n",
      "\n"
     ]
    }
   ],
   "source": [
    "for n in [2,10,50,100,500]:\n",
    "    print(\"n = \", n, \" Tn_0 = \", \"%.5f\" %simp(a0,b0,n,f0))\n",
    "print()"
   ]
  },
  {
   "cell_type": "markdown",
   "metadata": {},
   "source": [
    "保留五位小数，最终计算结果为0.95000"
   ]
  },
  {
   "cell_type": "markdown",
   "metadata": {},
   "source": [
    "**(3).龙贝格求积公式**\n",
    "\n",
    "龙贝格公式的求积结果如下："
   ]
  },
  {
   "cell_type": "code",
   "execution_count": 34,
   "metadata": {},
   "outputs": [
    {
     "name": "stdout",
     "output_type": "stream",
     "text": [
      "f1(x)的龙贝格算法矩阵，n=6\n",
      "[[0.2290885  0.         0.         0.         0.         0.\n",
      "  0.        ]\n",
      " [0.89647112 1.11893199 0.         0.         0.         0.\n",
      "  0.        ]\n",
      " [0.93198216 0.94381918 0.93214499 0.         0.         0.\n",
      "  0.        ]\n",
      " [0.9454369  0.94992182 0.95032866 0.95061729 0.         0.\n",
      "  0.        ]\n",
      " [0.94885927 0.95000006 0.95000527 0.95000014 0.94999772 0.\n",
      "  0.        ]\n",
      " [0.94971779 0.95000396 0.95000422 0.95000421 0.95000422 0.95000423\n",
      "  0.        ]\n",
      " [0.94993259 0.95000419 0.95000421 0.95000421 0.95000421 0.95000421\n",
      "  0.95000421]]\n"
     ]
    }
   ],
   "source": [
    "print(\"f1(x)的龙贝格算法矩阵，n=6\")\n",
    "print(my_romberg(f0,a0,b0,6))"
   ]
  },
  {
   "cell_type": "markdown",
   "metadata": {},
   "source": [
    "保留五位小数，最终计算结果为0.95000"
   ]
  },
  {
   "cell_type": "markdown",
   "metadata": {},
   "source": [
    "**(4).复合梯形公式和复合辛普森公式的比较**\n",
    "\n",
    "已知积分$\\int_{-1.96}^{1.96}\\frac{1}{\\sqrt{2\\pi}}e^{-\\frac{x^2}{2}}dx=0.95000$，则使用复合梯形公式和复合辛普森公式的误差如下表所示：\n",
    "\n",
    "| n | 复合梯形公式的误差 | 复合辛普森公式的误差 | \n",
    "| :----:| :----: | :----: |\n",
    "| 1 |  -7.20911498e-01|   1.68931993e-01|  \n",
    "| 5 |  -1.16123432e-02 |  -2.62577851e-05|    \n",
    "|  10| -2.92277915e-03 |  2.55300735e-06 |    \n",
    "|  20| -7.28780031e-04 |   4.10973903e-06|    \n",
    "|  50|   -1.13122350e-04 |4.20716961e-06  |    \n",
    "|  100|  -2.51252102e-05|   4.20954541e-06|  \n",
    "|  200| -3.12414349e-06 |   4.20969368e-06|  \n",
    "   \n",
    "    "
   ]
  },
  {
   "cell_type": "code",
   "execution_count": 35,
   "metadata": {},
   "outputs": [
    {
     "name": "stdout",
     "output_type": "stream",
     "text": [
      "[7.20911498e-01 1.16123432e-02 2.92277915e-03 1.13122350e-04\n",
      " 2.51252102e-05 3.12414349e-06]\n",
      "[-1.68931993e-01  2.62577851e-05 -2.55300735e-06 -4.20716961e-06\n",
      " -4.20954541e-06 -4.20969368e-06]\n"
     ]
    }
   ],
   "source": [
    "# 4.比较节点数相同时复合梯形公式和复合辛普森公式的误差。\n",
    "n_test = [1,5,10,50,100,200]\n",
    "f0_strape_all = [trape(a0,b0,int(i),f0) for i in n_test]\n",
    "f0_simp_all = [simp(a0,b0,int(i),f0) for i in n_test]\n",
    "\n",
    "print(-(np.array(f0_strape_all)-0.95))\n",
    "print(-(np.array(f0_simp_all)-0.95))"
   ]
  },
  {
   "cell_type": "markdown",
   "metadata": {},
   "source": [
    "### 2.$\\int_0^1\\sqrt{x}\\ln xdx$"
   ]
  },
  {
   "cell_type": "code",
   "execution_count": 36,
   "metadata": {},
   "outputs": [],
   "source": [
    "def f1(x):\n",
    "    if x == 0:\n",
    "        y = 0\n",
    "    else:\n",
    "        y = np.sqrt(x)*np.log(x)\n",
    "    return y"
   ]
  },
  {
   "cell_type": "markdown",
   "metadata": {},
   "source": [
    "**(1).复合梯形公式**\n",
    "\n",
    "复合梯形公式的求积结果如下："
   ]
  },
  {
   "cell_type": "code",
   "execution_count": 37,
   "metadata": {},
   "outputs": [
    {
     "name": "stdout",
     "output_type": "stream",
     "text": [
      "n =  2  Tn_1 =  -0.2451\n",
      "n =  10  Tn_1 =  -0.4171\n",
      "n =  50  Tn_1 =  -0.4411\n",
      "n =  100  Tn_1 =  -0.4431\n",
      "n =  500  Tn_1 =  -0.4443\n",
      "n =  700  Tn_1 =  -0.4444\n",
      "n =  1000  Tn_1 =  -0.4444\n"
     ]
    }
   ],
   "source": [
    "a1 = 0\n",
    "b1 = 1\n",
    "for n in [2,10,50,100,500,700,1000]:\n",
    "    print(\"n = \", n, \" Tn_1 = \", \"%.4f\"%trape(a1,b1,n,f1))"
   ]
  },
  {
   "cell_type": "markdown",
   "metadata": {},
   "source": [
    "保留四位小数，最终计算结果为-0.4444"
   ]
  },
  {
   "cell_type": "markdown",
   "metadata": {},
   "source": [
    "**(2).复合辛普森公式**\n",
    "\n",
    "复合辛普森公式的求积结果如下："
   ]
  },
  {
   "cell_type": "code",
   "execution_count": 38,
   "metadata": {},
   "outputs": [
    {
     "name": "stdout",
     "output_type": "stream",
     "text": [
      "n =  2  Tn_1 =  -0.3958\n",
      "n =  10  Tn_1 =  -0.4386\n",
      "n =  50  Tn_1 =  -0.4438\n",
      "n =  100  Tn_1 =  -0.4442\n",
      "n =  500  Tn_1 =  -0.4444\n",
      "n =  700  Tn_1 =  -0.4444\n"
     ]
    }
   ],
   "source": [
    "for n in [2,10,50,100,500,700]:\n",
    "    print(\"n = \", n, \" Tn_1 = \", \"%.4f\"%simp(a1,b1,n,f1))"
   ]
  },
  {
   "cell_type": "markdown",
   "metadata": {},
   "source": [
    "保留四位小数，最终计算结果为-0.4444"
   ]
  },
  {
   "cell_type": "markdown",
   "metadata": {},
   "source": [
    "**(3).龙贝格求积公式**\n",
    "\n",
    "龙贝格公式的求积结果如下："
   ]
  },
  {
   "cell_type": "code",
   "execution_count": 39,
   "metadata": {},
   "outputs": [
    {
     "name": "stdout",
     "output_type": "stream",
     "text": [
      "f2(x)的龙贝格算法矩阵，n=11\n",
      "[[ 0.          0.          0.          0.          0.          0.\n",
      "   0.          0.          0.          0.          0.          0.        ]\n",
      " [-0.24506454 -0.32675271  0.          0.          0.          0.\n",
      "   0.          0.          0.          0.          0.          0.        ]\n",
      " [-0.35810406 -0.3957839  -0.40038598  0.          0.          0.\n",
      "   0.          0.          0.          0.          0.          0.        ]\n",
      " [-0.40809004 -0.42475203 -0.42668324 -0.42710066  0.          0.\n",
      "   0.          0.          0.          0.          0.          0.        ]\n",
      " [-0.42947458 -0.43660277 -0.43739282 -0.43756281 -0.43760384  0.\n",
      "   0.          0.          0.          0.          0.          0.        ]\n",
      " [-0.43838949 -0.44136112 -0.44167834 -0.44174637 -0.44176277 -0.44176684\n",
      "   0.          0.          0.          0.          0.          0.        ]\n",
      " [-0.44203068 -0.44324442 -0.44336997 -0.44339682 -0.44340329 -0.4434049\n",
      "  -0.4434053   0.          0.          0.          0.          0.        ]\n",
      " [-0.44349365 -0.44398131 -0.44403044 -0.44404092 -0.44404345 -0.44404407\n",
      "  -0.44404423 -0.44404427  0.          0.          0.          0.        ]\n",
      " [-0.44407364 -0.44426696 -0.44428601 -0.44429006 -0.44429104 -0.44429128\n",
      "  -0.44429134 -0.44429136 -0.44429136  0.          0.          0.        ]\n",
      " [-0.44430104 -0.44437684 -0.44438416 -0.44438572 -0.4443861  -0.44438619\n",
      "  -0.44438621 -0.44438622 -0.44438622 -0.44438622  0.          0.        ]\n",
      " [-0.44438938 -0.44441882 -0.44442162 -0.44442222 -0.44442236 -0.4444224\n",
      "  -0.44442241 -0.44442241 -0.44442241 -0.44442241 -0.44442241  0.        ]\n",
      " [-0.44442343 -0.44443478 -0.44443584 -0.44443607 -0.44443612 -0.44443614\n",
      "  -0.44443614 -0.44443614 -0.44443614 -0.44443614 -0.44443614 -0.44443614]]\n"
     ]
    }
   ],
   "source": [
    "print(\"f2(x)的龙贝格算法矩阵，n=11\")\n",
    "print(my_romberg(f1,a1,b1,11))"
   ]
  },
  {
   "cell_type": "markdown",
   "metadata": {},
   "source": [
    "**(4).复合梯形公式和复合辛普森公式的比较**\n",
    "\n",
    "已知积分$\\int_0^1\\sqrt{x}\\ln xdx=-0.44444$，则使用复合梯形公式和复合辛普森公式的误差如下表所示：\n",
    "\n",
    "| n | 复合梯形公式的误差 | 复合辛普森公式的误差 | \n",
    "| :----:| :----: | :----: |\n",
    "|  1|  -4.44440000e-01| -1.17687286e-01 |  \n",
    "|  5| -6.55309711e-02 | -1.46592697e-02 |    \n",
    "|  10| -2.73771951e-02 |-5.80915093e-03  |      \n",
    "|50  | -3.34977361e-03 | -6.46201699e-04 |    \n",
    "|100  |  -1.32209468e-03|  -2.45489181e-04 |    \n",
    "|200  | -5.14640555e-04 | -9.09545479e-05  |  \n",
    "|500 |  -1.43718541e-04 |  -2.20421815e-05|  \n",
    "|1000  | -5.24612714e-05 | -5.54914201e-06 |  \n",
    "\n",
    "   \n",
    "      \n",
    "  "
   ]
  },
  {
   "cell_type": "code",
   "execution_count": 40,
   "metadata": {},
   "outputs": [
    {
     "name": "stdout",
     "output_type": "stream",
     "text": [
      "[-4.44440000e-01 -6.55309711e-02 -2.73771951e-02 -3.34977361e-03\n",
      " -1.32209468e-03 -5.14640555e-04 -1.43718541e-04 -5.24612714e-05]\n",
      "[-1.17687286e-01 -1.46592697e-02 -5.80915093e-03 -6.46201699e-04\n",
      " -2.45489181e-04 -9.09545479e-05 -2.20421815e-05 -5.54914201e-06]\n"
     ]
    }
   ],
   "source": [
    "# 4.比较节点数相同时复合梯形公式和复合辛普森公式的误差。\n",
    "n_test = [1,5,10,50,100,200,500,1000]\n",
    "f1_strape_all = [trape(a1,b1,int(i),f1) for i in n_test]\n",
    "f1_simp_all = [simp(a1,b1,int(i),f1) for i in n_test]\n",
    "\n",
    "print(-(np.array(f1_strape_all)+0.44444))\n",
    "print(-(np.array(f1_simp_all)+0.44444))"
   ]
  },
  {
   "cell_type": "markdown",
   "metadata": {},
   "source": [
    "## 第二题：数值微分\n",
    "\n",
    "### 0.数值微分方法\n",
    "\n",
    "**(1).两点公式**\n",
    "\n",
    "对于$f(x)$在$a,b$上建立两点插值函数$P_1(x)=\\frac{x-b}{a-b}f(a)+\\frac{x-a}{b-a}f(b)$。使用$P_1(x)$在$a,b$处的导数来近似$f(x)$在$a,b$处的导数。\n",
    "\n",
    "$f'(a)=f'(b)\\approx P'(a)=P'(b)=\\frac{f(b)-f(a)}{b-a}$\n",
    "\n",
    "可以使用如下函数实现数值微分的两点公式："
   ]
  },
  {
   "cell_type": "code",
   "execution_count": 41,
   "metadata": {},
   "outputs": [],
   "source": [
    "# 1.两点发求x=1，x=2导数值\n",
    "def twopoints(f,x1,x2):\n",
    "    y = (f(x2)-f(x1))/(x2-x1)\n",
    "    return y"
   ]
  },
  {
   "cell_type": "markdown",
   "metadata": {},
   "source": [
    "**(2).外推法**\n",
    "\n",
    "外推法的思想与龙贝格求积公式类似，使用外推降低误差的阶数。定义$G(h)=\\frac{f(a+h)-f(a-h)}{2h}$。由于$\\lim\\limits_{h\\to0}G(h)=f'(a)$且$G(h)=f'(a)+O(h^2)$。所以有：\n",
    "\n",
    "$$\n",
    "\\begin{aligned}\n",
    "&G(h)=f'(a)+\\alpha_1h^2+\\alpha_2h^4+...\\\\\n",
    "&G(\\frac{h}{2})=f'(a)+\\alpha_1(\\frac{h}{2})^2+\\alpha_2(\\frac{h}{2})^4+...\\\\\n",
    "\\implies&\\frac{4G(\\frac{h}{2})-G(h)}{3}=f'(a)+O(h^4)\n",
    "\\end{aligned}\n",
    "$$\n",
    "因此，可不断使用外推法提高数值微分的精度。记$G_0(h)=G(h),G_m(h)=\\frac{4^mG_{m-1}(\\frac{h}{2})-G_{m-1}(h)}{4^m-1}$，则有$G_m(h)=f'(a)+O(h^{2m+2})$。类似地，可以通过判断$|G_m(h)-G_{m-1}(h)|<\\epsilon$来输出数值微分的结果。不过由于数值微分会受到舍入误差的影响，此处$m$不宜过大。"
   ]
  },
  {
   "cell_type": "code",
   "execution_count": 42,
   "metadata": {},
   "outputs": [],
   "source": [
    "# 2.外推法\n",
    "def richardd(f, x, n, h):\n",
    "    mat = np.zeros((n+1,n+1),float)\n",
    "    mat[0,0] = (f(x+h)-f(x-h))/(2*h)\n",
    "    for i in range(1, n+1):\n",
    "        h = h/2\n",
    "        mat[i,0] = (f(x+h)-f(x-h))/(2*h)\n",
    "        c4 = 1\n",
    "        for j in range(1, i+1):\n",
    "            c4 = 4 * c4\n",
    "            mat[i,j] = mat[i,j-1] + (mat[i,j-1]-mat[i-1,j-1])/(c4-1)\n",
    "    return mat"
   ]
  },
  {
   "cell_type": "markdown",
   "metadata": {},
   "source": [
    "下面使用数值微分方法对函数$f(x)=e^{-\\frac{1}{x}}$求区间$[1,2]$上的导数。"
   ]
  },
  {
   "cell_type": "code",
   "execution_count": 43,
   "metadata": {},
   "outputs": [],
   "source": [
    "def f2(x):\n",
    "    y = np.exp(-1/x)\n",
    "    return y\n",
    "\n",
    "def f2derireal(x):\n",
    "    y = np.exp(-1/x)/(x*x)\n",
    "    return y"
   ]
  },
  {
   "cell_type": "markdown",
   "metadata": {},
   "source": [
    "### 1.两点法求导数"
   ]
  },
  {
   "cell_type": "code",
   "execution_count": 44,
   "metadata": {},
   "outputs": [
    {
     "name": "stdout",
     "output_type": "stream",
     "text": [
      "0.2386512185411911\n"
     ]
    }
   ],
   "source": [
    "print(twopoints(f2,1,2))"
   ]
  },
  {
   "cell_type": "markdown",
   "metadata": {},
   "source": [
    "f(x)在1，2两点的导数为0.2386512185411911"
   ]
  },
  {
   "cell_type": "markdown",
   "metadata": {},
   "source": [
    "### 2.外推法求导数"
   ]
  },
  {
   "cell_type": "code",
   "execution_count": 45,
   "metadata": {},
   "outputs": [
    {
     "name": "stdout",
     "output_type": "stream",
     "text": [
      "[[0.37808184 0.         0.         0.         0.         0.        ]\n",
      " [0.37146365 0.36925759 0.         0.         0.         0.        ]\n",
      " [0.36882293 0.36794269 0.36785503 0.         0.         0.        ]\n",
      " [0.36811805 0.36788309 0.36787912 0.3678795  0.         0.        ]\n",
      " [0.36793926 0.36787966 0.36787944 0.36787944 0.36787944 0.        ]\n",
      " [0.36789441 0.36787946 0.36787944 0.36787944 0.36787944 0.36787944]]\n"
     ]
    }
   ],
   "source": [
    "n = 5\n",
    "h = 0.5\n",
    "print(richardd(f2,1,n,h))"
   ]
  },
  {
   "cell_type": "markdown",
   "metadata": {},
   "source": [
    "在$10^{-3}$精度条件下，外推法求得的导数值为0.367"
   ]
  },
  {
   "cell_type": "markdown",
   "metadata": {},
   "source": [
    "### 3.一阶导数图像"
   ]
  },
  {
   "cell_type": "code",
   "execution_count": 47,
   "metadata": {},
   "outputs": [
    {
     "data": {
      "text/plain": [
       "<matplotlib.legend.Legend at 0x18e9840c808>"
      ]
     },
     "execution_count": 47,
     "metadata": {},
     "output_type": "execute_result"
    },
    {
     "data": {
      "image/png": "[encoded data removed]",
      "text/plain": [
       "<Figure size 576x396 with 1 Axes>"
      ]
     },
     "metadata": {},
     "output_type": "display_data"
    }
   ],
   "source": [
    "# 3.画出[1,2]上一阶数值微分曲线，比较\n",
    "def fderihat(f, x, n=5, h=0.5):\n",
    "    return richardd(f,x,n,h)[n,n]\n",
    "\n",
    "x_space = np.arange(1,2,0.01)\n",
    "yd_real_space = f2derireal(x_space)\n",
    "yd_hat_space = [fderihat(f2,i,n,h) for i in x_space]\n",
    "\n",
    "plt.style.use(\"seaborn\")\n",
    "plt.plot(x_space,yd_real_space,'--',label=\"f' real\",lw =4)\n",
    "plt.plot(x_space,yd_hat_space,label=\"f' hat\")\n",
    "plt.legend()"
   ]
  },
  {
   "cell_type": "markdown",
   "metadata": {},
   "source": [
    "与真实值误差图，数量级在1e-15"
   ]
  },
  {
   "cell_type": "code",
   "execution_count": 48,
   "metadata": {
    "tags": []
   },
   "outputs": [
    {
     "data": {
      "text/plain": [
       "[<matplotlib.lines.Line2D at 0x18e9849b208>]"
      ]
     },
     "execution_count": 48,
     "metadata": {},
     "output_type": "execute_result"
    },
    {
     "data": {
      "image/png": "[encoded data removed]",
      "text/plain": [
       "<Figure size 576x396 with 1 Axes>"
      ]
     },
     "metadata": {},
     "output_type": "display_data"
    }
   ],
   "source": [
    "plt.plot(x_space,yd_real_space-yd_hat_space)"
   ]
  },
  {
   "cell_type": "markdown",
   "metadata": {},
   "source": [
    "### 4.二阶导数"
   ]
  },
  {
   "cell_type": "code",
   "execution_count": 49,
   "metadata": {},
   "outputs": [
    {
     "data": {
      "text/plain": [
       "<matplotlib.legend.Legend at 0x18e98523748>"
      ]
     },
     "execution_count": 49,
     "metadata": {},
     "output_type": "execute_result"
    },
    {
     "data": {
      "image/png": "[encoded data removed]",
      "text/plain": [
       "<Figure size 576x396 with 1 Axes>"
      ]
     },
     "metadata": {},
     "output_type": "display_data"
    }
   ],
   "source": [
    "# 4.画出[1,2]上二阶数值微分曲线，比较\n",
    "\n",
    "def f2derihat(x):\n",
    "    return fderihat(f2, x, n=5, h=0.1)\n",
    "\n",
    "def f2ddreal(x):\n",
    "    y = np.exp(-1/x)*(1/x**4-2/x**3)\n",
    "    return y\n",
    "\n",
    "ydd_real_space = f2ddreal(x_space)\n",
    "ydd_hat_space = [fderihat(f2derihat,i,5,0.1) for i in x_space]\n",
    "plt.plot(x_space,ydd_real_space,'--',label=\"f'' real\",lw =4)\n",
    "plt.plot(x_space,ydd_hat_space,label=\"f'' hat\")\n",
    "plt.legend()"
   ]
  },
  {
   "cell_type": "markdown",
   "metadata": {},
   "source": [
    "与真实值误差图，数量级在1e-11"
   ]
  },
  {
   "cell_type": "code",
   "execution_count": 50,
   "metadata": {},
   "outputs": [
    {
     "data": {
      "text/plain": [
       "[<matplotlib.lines.Line2D at 0x18e985ad908>]"
      ]
     },
     "execution_count": 50,
     "metadata": {},
     "output_type": "execute_result"
    },
    {
     "data": {
      "image/png": "[encoded data removed]",
      "text/plain": [
       "<Figure size 576x396 with 1 Axes>"
      ]
     },
     "metadata": {},
     "output_type": "display_data"
    }
   ],
   "source": [
    "plt.plot(x_space,ydd_real_space-ydd_hat_space)"
   ]
  },
  {
   "cell_type": "code",
   "execution_count": null,
   "metadata": {},
   "outputs": [],
   "source": []
  }
 ],
 "metadata": {
  "kernelspec": {
   "display_name": "Python 3",
   "language": "python",
   "name": "python3"
  },
  "language_info": {
   "codemirror_mode": {
    "name": "ipython",
    "version": 3
   },
   "file_extension": ".py",
   "mimetype": "text/x-python",
   "name": "python",
   "nbconvert_exporter": "python",
   "pygments_lexer": "ipython3",
   "version": "3.7.4"
  }
 },
 "nbformat": 4,
 "nbformat_minor": 4
}
